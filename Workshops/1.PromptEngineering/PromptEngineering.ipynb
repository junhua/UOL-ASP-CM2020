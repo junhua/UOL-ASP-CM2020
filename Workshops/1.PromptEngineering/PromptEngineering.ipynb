{
 "cells": [
  {
   "cell_type": "markdown",
   "metadata": {},
   "source": [
    "# Introduction to Prompt Engineering\n",
    "\n",
    "In this tutorial, you'll learn two basic techniques to write effective prompts for large language models (LLMs).\n"
   ]
  },
  {
   "cell_type": "code",
   "execution_count": 2,
   "metadata": {},
   "outputs": [],
   "source": [
    "import openai\n",
    "import os\n",
    "os.environ[\"OPENAI_API_KEY\"] = os.getenv(\"OPENAI_API_KEY\") \n",
    "openai.api_key  = os.environ[\"OPENAI_API_KEY\"]"
   ]
  },
  {
   "cell_type": "markdown",
   "metadata": {},
   "source": [
    "### ChatCompletion API ###\n",
    "First, we will introduce how to use the OpenAI ChatCompletion API (Completion is going to depreciate).  \n",
    "Let's take a look at their documentation:  \n",
    "Guide: https://platform.openai.com/docs/guides/gpt/chat-completions-api  \n",
    "API: https://platform.openai.com/docs/api-reference/chat/object\n",
    "\n",
    "\n"
   ]
  },
  {
   "cell_type": "code",
   "execution_count": 3,
   "metadata": {},
   "outputs": [],
   "source": [
    "# def get_completion(prompt, model=\"gpt-4\"):\n",
    "def get_completion(prompt, model=\"gpt-3.5-turbo\"):\n",
    "    messages = [{\"role\": \"user\", \"content\": prompt}]\n",
    "    response = openai.ChatCompletion.create(\n",
    "        model=model,\n",
    "        messages=messages,\n",
    "        temperature=0, # this is the degree of randomness of the model's output\n",
    "    )\n",
    "    return response.choices[0].message[\"content\"]"
   ]
  },
  {
   "cell_type": "markdown",
   "metadata": {},
   "source": [
    "Let's try to get the agent to summarise a text for us. We will use **Prompts** do to so. A prompt is essentially the text we feed into the LLM. It can include context, task, output structure and other specific instructions.\n",
    "\n",
    "Be specific and clearly break down different parts of the prompt\n"
   ]
  },
  {
   "cell_type": "code",
   "execution_count": 4,
   "metadata": {},
   "outputs": [
    {
     "name": "stdout",
     "output_type": "stream",
     "text": [
      "1) Define and describe the deliverable components of the software and the necessary research and iterative prototyping required to complete them.\n",
      "2) Create a defined timescale of work, including dependencies, milestones, and contingencies. Provide a clear narrative describing the breakdown of work and activities.\n",
      "3) Develop a formal specification of the desired system, including a description of how iterative design exercises have led to an appropriate solution. Include user-acceptance criteria for testing.\n",
      "4) Clearly define the scope of the project, specifying what will and will not be delivered.\n",
      "5) Elicit requirements from project stakeholders and provide evidence supporting decision making. Use empirical evidence from literature sources or usability studies and heuristic evaluations.\n",
      "6) Summarize the challenges of working within the chosen domain and describe the capabilities and competencies of similar tools through research.\n",
      "7) Describe the approach for the project, discussing motivations and reasoning for working in a particular manner (e.g., User-Centered Design, Test-Driven Development). Identify tasks required for project completion, such as a backlog, use cases, or functional/technical specifications.\n",
      "8) Create early prototypes to demonstrate iterative design and development activities, highlighting strengths and weaknesses of the proposition.\n",
      "9) Test and validate assumptions and designs through user tests or automated feedback (e.g., W3C validation/accessibility testing, heuristic tests).\n",
      "10) Conduct a critical evaluation of the concept, the current state of the project, and the proposed software project. Provide an overall evaluation of the approach's feasibility.\n"
     ]
    }
   ],
   "source": [
    "text = f\"\"\"\n",
    "This coursework assignment explores the design and development of your software\n",
    "project. The deliverable here is a proposal which defines and describes a number of\n",
    "key elements of your project. You should produce a document that is no longer than\n",
    "8,000 words in length (not including appendix) and should be submitted as a single\n",
    "PDF document.\n",
    "This proposal should be used to explore design decisions, consider the context of use\n",
    "and identify the process by which the software project is developed. As such, your\n",
    "proposal should include a reasoned justification that explores the following topics:\n",
    "1) A clearly defined set of deliverable components of the software and the job of\n",
    "work required to bring these components to completion through research and\n",
    "iterative prototyping informed by said research.\n",
    "2) The defined timescale of work, including any dependencies, milestones or\n",
    "contingencies. There should be a clear narrative describing your breakdown of\n",
    "work and activities as part of the project.\n",
    "3) A formal specification of the desired system. This will include a description of\n",
    "how your iterative design exercises have converged on an appropriate,\n",
    "relevant and acceptable solution. You should also include user-acceptance\n",
    "criteria for testing at this stage.\n",
    "4) A clearly defined scope for the project defining areas that you will and will not\n",
    "be delivering on.\n",
    "5) Some evidence of requirements elicitation involving some/all of your project\n",
    "stakeholders. Evidence should be provided supporting your decision making\n",
    "at all times. This will come either in the form of existing empirical evidence\n",
    "from literature sources or through empirical proof through techniques such as\n",
    "usability studies and heuristic evaluations that you have performed.\n",
    "6) A research summary that highlights the challenges of working within your\n",
    "chosen domain and summarises the capabilities and competencies of similar\n",
    "tools.\n",
    "7) A description of your approach that discusses the motivations and reasoning\n",
    "for working in a particular manner (e.g. User-Centred Design, Test-Driven\n",
    "Development.) This should also include a clear and descriptive narrative that\n",
    "identifies the tasks required to bring this project to fruition e.g. as a backlog,\n",
    "set of use cases or functional/technical specifications supported by evidenced\n",
    "based reasoning.\n",
    "8) Some early prototypes showing iterative design and development activities\n",
    "that identify how the project will work and highlighting the strengths and\n",
    "weaknesses of your proposition.\n",
    "9) Some early evidence of assumption testing and validation of your designs to\n",
    "date (e.g. user tests or automated feedback such as W3C\n",
    "validation/accessibility testing, heuristic tests etc.)\n",
    "10)A critical evaluation of your concept, your project in its current state and the\n",
    "proposed software project.\n",
    "The document should highlight a clear and systematic rhetoric with critical analysis\n",
    "and an overall evaluation regarding the current state and feasibility of the approach\n",
    "presented.\n",
    "\"\"\"\n",
    "\n",
    "prompt = f\"\"\"\n",
    "List down the actionable items from the project proposal requirements delimited by triple backticks (```).\n",
    "\n",
    "```{text}```\n",
    "\"\"\"\n",
    "\n",
    "response = get_completion(prompt)\n",
    "print(response)"
   ]
  },
  {
   "cell_type": "markdown",
   "metadata": {},
   "source": [
    "Sometimes we may want to use the output directly in a program. We can add the structure requirement to the prompt."
   ]
  },
  {
   "cell_type": "code",
   "execution_count": 35,
   "metadata": {},
   "outputs": [
    {
     "name": "stdout",
     "output_type": "stream",
     "text": [
      "{\n",
      "  \"actionable_items\": [\n",
      "    \"Define a set of deliverable components of the software\",\n",
      "    \"Research and iterate on prototypes to bring the components to completion\",\n",
      "    \"Define the timescale of work, including dependencies, milestones, and contingencies\",\n",
      "    \"Breakdown the work and activities as part of the project\",\n",
      "    \"Create a formal specification of the desired system\",\n",
      "    \"Converge on an appropriate, relevant, and acceptable solution through iterative design exercises\",\n",
      "    \"Include user-acceptance criteria for testing\",\n",
      "    \"Define the scope of the project, including areas to be delivered on and areas not to be delivered on\",\n",
      "    \"Elicit requirements from project stakeholders\",\n",
      "    \"Provide evidence supporting decision making\",\n",
      "    \"Summarize the challenges of working within the chosen domain\",\n",
      "    \"Summarize the capabilities and competencies of similar tools\",\n",
      "    \"Describe the approach for working in a particular manner (e.g. User-Centred Design, Test-Driven Development)\",\n",
      "    \"Identify the tasks required to bring the project to fruition\",\n",
      "    \"Create early prototypes to demonstrate design and development activities\",\n",
      "    \"Highlight the strengths and weaknesses of the proposition\",\n",
      "    \"Test and validate designs through assumption testing and validation\",\n",
      "    \"Conduct a critical evaluation of the concept, current state of the project, and proposed software project\",\n",
      "    \"Present a clear and systematic rhetoric with critical analysis\",\n",
      "    \"Evaluate the current state and feasibility of the approach\"\n",
      "  ]\n",
      "}\n"
     ]
    }
   ],
   "source": [
    "prompt = f\"\"\"\n",
    "The project proposal requirements are privided below, delimited by triple backticks (```).  \n",
    "List the actionable items in JSON format.\n",
    "\n",
    "```{text}```\n",
    "\"\"\"\n",
    "response = get_completion(prompt)\n",
    "print(response)\n"
   ]
  },
  {
   "cell_type": "markdown",
   "metadata": {},
   "source": [
    "### Few-shot prompting ###\n",
    "We can also provide some examples in the prompt for the LLM to learn. Formally it's call \"Few-shot\" prompting."
   ]
  },
  {
   "cell_type": "code",
   "execution_count": 36,
   "metadata": {},
   "outputs": [
    {
     "name": "stdout",
     "output_type": "stream",
     "text": [
      "{\n",
      "    \"tasks\": {\n",
      "        \"1\": {\n",
      "            \"description\": \"Define deliverable components and required work.\",\n",
      "            \"est time\": \"2 days\",\n",
      "            \"dependency\": \"NA\"\n",
      "        },\n",
      "        \"2\": {\n",
      "            \"description\": \"Specify timescale, dependencies, milestones, and contingencies\",\n",
      "            \"est time\": \"3 days\",\n",
      "            \"dependency\": \"1\"\n",
      "        },\n",
      "        \"3\": {\n",
      "            \"description\": \"Create a formal specification of the desired system\",\n",
      "            \"est time\": \"4 days\",\n",
      "            \"dependency\": \"2\"\n",
      "        },\n",
      "        \"4\": {\n",
      "            \"description\": \"Define the scope of the project\",\n",
      "            \"est time\": \"1 day\",\n",
      "            \"dependency\": \"3\"\n",
      "        },\n",
      "        \"5\": {\n",
      "            \"description\": \"Elicit requirements from project stakeholders\",\n",
      "            \"est time\": \"2 days\",\n",
      "            \"dependency\": \"4\"\n",
      "        },\n",
      "        \"6\": {\n",
      "            \"description\": \"Conduct research on challenges within the chosen domain and capabilities of similar tools\",\n",
      "            \"est time\": \"3 days\",\n",
      "            \"dependency\": \"5\"\n",
      "        },\n",
      "        \"7\": {\n",
      "            \"description\": \"Describe the approach and identify tasks required for the project\",\n",
      "            \"est time\": \"2 days\",\n",
      "            \"dependency\": \"6\"\n",
      "        },\n",
      "        \"8\": {\n",
      "            \"description\": \"Create early prototypes to showcase iterative design and development\",\n",
      "            \"est time\": \"3 days\",\n",
      "            \"dependency\": \"7\"\n",
      "        },\n",
      "        \"9\": {\n",
      "            \"description\": \"Test and validate assumptions and designs\",\n",
      "            \"est time\": \"2 days\",\n",
      "            \"dependency\": \"8\"\n",
      "        },\n",
      "        \"10\": {\n",
      "            \"description\": \"Conduct a critical evaluation of the concept, current state, and feasibility of the proposed software project\",\n",
      "            \"est time\": \"2 days\",\n",
      "            \"dependency\": \"9\"\n",
      "        }\n",
      "    }\n",
      "}\n"
     ]
    }
   ],
   "source": [
    "examples = \"\"\"{\n",
    "    \"tasks\": {\n",
    "        \"1\": {\n",
    "            \"description\": \"Define deliverable components and required work.\",\n",
    "            \"est time\": \"2 days\",\n",
    "            \"dependency\": \"NA\",\n",
    "        },\n",
    "        \"2\": {\n",
    "            \"description\": \"Specify timescale, dependencies, milestones, and contingencies\",\n",
    "            \"est time\": \"3 days\",\n",
    "            \"depencency\": \"1\"\n",
    "        }\n",
    "    }\n",
    "}\n",
    "\"\"\"\n",
    "prompt = f\"\"\"\n",
    "The project proposal requirements are privided below, delimited by triple backticks (```). \n",
    "Create the actionable items in JSON format, using the following examples delimited by tag <examples> and </examples>.\n",
    "\n",
    "<examples>\n",
    "{examples}\n",
    "</examples>\n",
    "\n",
    "\n",
    "```{text}```\n",
    "\"\"\"\n",
    "response = get_completion(prompt)\n",
    "print(response)"
   ]
  },
  {
   "cell_type": "markdown",
   "metadata": {},
   "source": [
    "### Chain of Thoughts(CoT) ###\n",
    "\n",
    "You can specify the steps that the LLM should take to generate the final output.   \n",
    "This is a technique called **Chain of Thoughts (CoT)**"
   ]
  },
  {
   "cell_type": "code",
   "execution_count": 37,
   "metadata": {},
   "outputs": [
    {
     "name": "stdout",
     "output_type": "stream",
     "text": [
      "```\n",
      "{\n",
      "    \"tasks\": {\n",
      "        \"1\": {\n",
      "            \"description\": \"Define deliverable components and required work.\",\n",
      "            \"est time\": \"2 days\",\n",
      "            \"dependency\": \"NA\"\n",
      "        },\n",
      "        \"2\": {\n",
      "            \"description\": \"Specify timescale, dependencies, milestones, and contingencies\",\n",
      "            \"est time\": \"3 days\",\n",
      "            \"dependency\": \"1\"\n",
      "        },\n",
      "        \"3\": {\n",
      "            \"description\": \"Create a formal specification of the desired system\",\n",
      "            \"est time\": \"4 days\",\n",
      "            \"dependency\": \"2\"\n",
      "        },\n",
      "        \"4\": {\n",
      "            \"description\": \"Define the scope of the project\",\n",
      "            \"est time\": \"1 day\",\n",
      "            \"dependency\": \"2\"\n",
      "        },\n",
      "        \"5\": {\n",
      "            \"description\": \"Gather evidence of requirements elicitation\",\n",
      "            \"est time\": \"2 days\",\n",
      "            \"dependency\": \"2\"\n",
      "        },\n",
      "        \"6\": {\n",
      "            \"description\": \"Summarize research challenges and capabilities of similar tools\",\n",
      "            \"est time\": \"1 day\",\n",
      "            \"dependency\": \"2\"\n",
      "        },\n",
      "        \"7\": {\n",
      "            \"description\": \"Describe the approach and identify tasks required\",\n",
      "            \"est time\": \"2 days\",\n",
      "            \"dependency\": \"2\"\n",
      "        },\n",
      "        \"8\": {\n",
      "            \"description\": \"Create early prototypes\",\n",
      "            \"est time\": \"3 days\",\n",
      "            \"dependency\": \"7\"\n",
      "        },\n",
      "        \"9\": {\n",
      "            \"description\": \"Test and validate designs\",\n",
      "            \"est time\": \"2 days\",\n",
      "            \"dependency\": \"8\"\n",
      "        },\n",
      "        \"10\": {\n",
      "            \"description\": \"Conduct a critical evaluation of the concept and project\",\n",
      "            \"est time\": \"1 day\",\n",
      "            \"dependency\": \"9\"\n",
      "        }\n",
      "    }\n",
      "}\n",
      "```\n"
     ]
    }
   ],
   "source": [
    "prompt = f\"\"\"\n",
    "Perform the following actions:\n",
    "1. Summarize a list of actionable items from the project proposal requirements, delimited by triple backticks (```).\n",
    "2. For each of the item, include the IDs of its dependent items.\n",
    "3. Estimate the time required to complete the item, assuming the dependencies are completed.\n",
    "4. Create the actionable items in JSON format, using the following examples delimited by tag <examples> and </examples>.\n",
    "\n",
    "<examples>\n",
    "{examples}\n",
    "</examples>\n",
    "\n",
    "\n",
    "```{text}```\n",
    "\"\"\"\n",
    "\n",
    "response = get_completion(prompt)\n",
    "print(response)"
   ]
  },
  {
   "cell_type": "markdown",
   "metadata": {},
   "source": [
    "## Use LLM for NLP tasks ##\n",
    "Traditionally, for each NLP task, such as classification, summarization, and translation, you need to train a dedicated model to perform the task. \n",
    "\n",
    "With the help of LLM, you can now use prompt do to all these tasks. "
   ]
  },
  {
   "cell_type": "markdown",
   "metadata": {},
   "source": [
    "### Classification ###"
   ]
  },
  {
   "cell_type": "code",
   "execution_count": 7,
   "metadata": {},
   "outputs": [
    {
     "name": "stdout",
     "output_type": "stream",
     "text": [
      "```\n",
      "{\n",
      "    \"tasks\": {\n",
      "        \"1\": {\n",
      "            \"description\": \"Define deliverable components and required work.\",\n",
      "            \"est time\": \"2 days\",\n",
      "            \"dependency\": \"NA\",\n",
      "            \"category\": \"scoping\",\n",
      "            \"difficulty\": \"easy\"\n",
      "        },\n",
      "        \"2\": {\n",
      "            \"description\": \"Specify timescale, dependencies, milestones, and contingencies\",\n",
      "            \"est time\": \"3 days\",\n",
      "            \"dependency\": \"1\",\n",
      "            \"category\": \"scoping\",\n",
      "            \"difficulty\": \"easy\"\n",
      "        },\n",
      "        \"3\": {\n",
      "            \"description\": \"Formal specification of the desired system\",\n",
      "            \"est time\": \"4 days\",\n",
      "            \"dependency\": \"2\",\n",
      "            \"category\": \"design\",\n",
      "            \"difficulty\": \"medium\"\n",
      "        },\n",
      "        \"4\": {\n",
      "            \"description\": \"Define project scope\",\n",
      "            \"est time\": \"1 day\",\n",
      "            \"dependency\": \"2\",\n",
      "            \"category\": \"scoping\",\n",
      "            \"difficulty\": \"easy\"\n",
      "        },\n",
      "        \"5\": {\n",
      "            \"description\": \"Evidence of requirements elicitation\",\n",
      "            \"est time\": \"2 days\",\n",
      "            \"dependency\": \"NA\",\n",
      "            \"category\": \"research\",\n",
      "            \"difficulty\": \"medium\"\n",
      "        },\n",
      "        \"6\": {\n",
      "            \"description\": \"Research summary\",\n",
      "            \"est time\": \"3 days\",\n",
      "            \"dependency\": \"5\",\n",
      "            \"category\": \"research\",\n",
      "            \"difficulty\": \"medium\"\n",
      "        },\n",
      "        \"7\": {\n",
      "            \"description\": \"Description of approach\",\n",
      "            \"est time\": \"2 days\",\n",
      "            \"dependency\": \"6\",\n",
      "            \"category\": \"design\",\n",
      "            \"difficulty\": \"medium\"\n",
      "        },\n",
      "        \"8\": {\n",
      "            \"description\": \"Early prototypes\",\n",
      "            \"est time\": \"5 days\",\n",
      "            \"dependency\": \"7\",\n",
      "            \"category\": \"development\",\n",
      "            \"difficulty\": \"hard\"\n",
      "        },\n",
      "        \"9\": {\n",
      "            \"description\": \"Assumption testing and validation\",\n",
      "            \"est time\": \"3 days\",\n",
      "            \"dependency\": \"8\",\n",
      "            \"category\": \"testing\",\n",
      "            \"difficulty\": \"medium\"\n",
      "        },\n",
      "        \"10\": {\n",
      "            \"description\": \"Critical evaluation\",\n",
      "            \"est time\": \"2 days\",\n",
      "            \"dependency\": \"9\",\n",
      "            \"category\": \"documentation\",\n",
      "            \"difficulty\": \"easy\"\n",
      "        }\n",
      "    }\n",
      "}\n",
      "```\n"
     ]
    }
   ],
   "source": [
    "examples = \"\"\"{\n",
    "    \"tasks\": {\n",
    "        \"1\": {\n",
    "            \"description\": \"Define deliverable components and required work.\",\n",
    "            \"est time\": \"2 days\",\n",
    "            \"dependency\": \"NA\",\n",
    "            \"category\": \"scoping\",\n",
    "            \"difficulty\": \"easy\"\n",
    "        },\n",
    "        \"2\": {\n",
    "            \"description\": \"Specify timescale, dependencies, milestones, and contingencies\",\n",
    "            \"est time\": \"3 days\",\n",
    "            \"depencency\": \"1\",\n",
    "            \"category\": \"scoping\",\n",
    "            \"difficulty\": \"easy\"\n",
    "        }\n",
    "    }\n",
    "}\n",
    "\"\"\"\n",
    "\n",
    "prompt = f\"\"\"\n",
    "Perform the following actions:\n",
    "1. Summarize a list of actionable items from the project proposal requirements, delimited by triple backticks (```).\n",
    "2. For each of the item, include the IDs of its dependent items.\n",
    "3. Estimate the time required to complete the item, assuming the dependencies are completed.\n",
    "4. Classify the tasks into different categories, such as \"design\", \"development\", \"testing\", \"documentation\", \"deployment\", etc.\n",
    "5. Classify the tasks into different difficulties, such as \"easy\", \"medium\", \"hard\", \"very hard\", etc.\n",
    "6. Create the actionable items in JSON format, using the following examples delimited by tag <examples> and </examples>.\n",
    "\n",
    "<examples>\n",
    "{examples}\n",
    "</examples>\n",
    "\n",
    "\n",
    "```{text}```\n",
    "\"\"\"\n",
    "\n",
    "response = get_completion(prompt)\n",
    "print(response)"
   ]
  },
  {
   "cell_type": "markdown",
   "metadata": {},
   "source": [
    "### Summarisation ###"
   ]
  },
  {
   "cell_type": "code",
   "execution_count": 6,
   "metadata": {},
   "outputs": [
    {
     "name": "stdout",
     "output_type": "stream",
     "text": [
      "The project proposal requirements for this coursework assignment involve designing and developing a software project. The proposal should be no longer than 8,000 words and should be submitted as a single PDF document. The proposal should explore design decisions, consider the context of use, and identify the software development process. It should include a justification for the deliverable components of the software and the necessary research and iterative prototyping to complete them. The proposal should also define the timescale of work, including dependencies, milestones, and contingencies, with a clear breakdown of work and activities. A formal specification of the desired system should be included, along with user-acceptance criteria for testing. The scope of the project should be clearly defined, indicating what will and will not be delivered. Evidence of requirements elicitation involving project stakeholders should be provided, either through literature sources or empirical proof such as usability studies. A research summary should highlight the challenges of the chosen domain and the capabilities of similar tools. The approach to the project should be described, including motivations and reasoning, and the tasks required to complete the project should be identified. Early prototypes should demonstrate iterative design and development activities, highlighting strengths and weaknesses. Assumption testing and validation of designs should also be included. Finally, a critical evaluation of the concept, current state of the project, and proposed software project should be provided, with a clear and systematic rhetoric and overall evaluation of feasibility.\n"
     ]
    }
   ],
   "source": [
    "prompt = f\"\"\"\n",
    "Summarize the given project proposal requirements, delimited by triple backticks (```), into a paragraph of 200 words.\n",
    "```{text}```\n",
    "\"\"\"\n",
    "response = get_completion(prompt)\n",
    "print(response)"
   ]
  },
  {
   "cell_type": "markdown",
   "metadata": {},
   "source": []
  },
  {
   "cell_type": "markdown",
   "metadata": {},
   "source": [
    "### translation ###"
   ]
  },
  {
   "cell_type": "code",
   "execution_count": 8,
   "metadata": {},
   "outputs": [
    {
     "name": "stdout",
     "output_type": "stream",
     "text": [
      "这个课程作业的项目提案要求设计和开发一个软件项目。提案的字数不应超过8000字，并且应以单个PDF文档的形式提交。提案应探讨设计决策，考虑使用环境，并确定软件开发过程。它应包括对软件交付组件的合理化解释以及完成它们所需的研究和迭代原型制作。提案还应定义工作的时间表，包括依赖关系、里程碑和应急措施，并清楚地分解工作和活动。应包括所需系统的正式规范，以及用于测试的用户验收标准。项目的范围应明确定义，指明将要交付和不会交付的内容。应提供与项目利益相关者进行需求获取的证据，可以是通过文献来源或可用性研究等经验证明。研究摘要应突出所选择领域的挑战和类似工具的能力。应描述项目的方法，包括动机和推理，并确定完成项目所需的任务。早期原型应展示迭代设计和开发活动，突出优点和缺点。还应包括假设测试和设计验证。最后，应提供对概念、项目当前状态和拟议软件项目的批判性评估，以及对可行性的明确和系统的论证和总体评估。\n"
     ]
    }
   ],
   "source": [
    "summary = \"\"\"\n",
    "The project proposal requirements for this coursework assignment involve designing and developing a software project. The proposal should be no longer than 8,000 words and should be submitted as a single PDF document. The proposal should explore design decisions, consider the context of use, and identify the software development process. It should include a justification for the deliverable components of the software and the necessary research and iterative prototyping to complete them. The proposal should also define the timescale of work, including dependencies, milestones, and contingencies, with a clear breakdown of work and activities. A formal specification of the desired system should be included, along with user-acceptance criteria for testing. The scope of the project should be clearly defined, indicating what will and will not be delivered. Evidence of requirements elicitation involving project stakeholders should be provided, either through literature sources or empirical proof such as usability studies. A research summary should highlight the challenges of the chosen domain and the capabilities of similar tools. The approach to the project should be described, including motivations and reasoning, and the tasks required to complete the project should be identified. Early prototypes should demonstrate iterative design and development activities, highlighting strengths and weaknesses. Assumption testing and validation of designs should also be included. Finally, a critical evaluation of the concept, current state of the project, and proposed software project should be provided, with a clear and systematic rhetoric and overall evaluation of feasibility.\n",
    "\"\"\"\n",
    "\n",
    "prompt = f\"\"\"\n",
    "Translate the given summary, delimited by triple backticks (```), into simplified chinese.\n",
    "```{summary}```\n",
    "\"\"\"\n",
    "response = get_completion(prompt)\n",
    "print(response)"
   ]
  },
  {
   "cell_type": "markdown",
   "metadata": {},
   "source": [
    "## Chat ##\n",
    "We've been using the **ChatCompletion** API to do various one-step NLP tasks. Now let's learn how to build a chat that have extended converstaions with chatbots."
   ]
  },
  {
   "cell_type": "code",
   "execution_count": 9,
   "metadata": {},
   "outputs": [
    {
     "name": "stdout",
     "output_type": "stream",
     "text": [
      "Sure! Here's a step-by-step guide to help you write a project proposal for your software development coursework assignment:\n",
      "\n",
      "1. Introduction:\n",
      "   - Provide an overview of the project, including its purpose and objectives.\n",
      "   - Explain the relevance and importance of the project in the chosen domain.\n",
      "   - Introduce the problem or challenge that the software aims to address.\n",
      "\n",
      "2. Context of Use:\n",
      "   - Identify and describe the target users or stakeholders of the software.\n",
      "   - Analyze their needs, preferences, and constraints to guide design decisions.\n",
      "   - Consider any environmental or situational factors that may impact software usage.\n",
      "\n",
      "3. Software Development Process:\n",
      "   - Select an appropriate software development methodology/framework.\n",
      "   - Justify the chosen methodology and explain how it complements the project requirements.\n",
      "   - Outline the key stages, activities, and deliverables of the software development process.\n",
      "\n",
      "4. Deliverable Components:\n",
      "   - Specify the different functionalities and features that the software will include.\n",
      "   - Justify why these components are necessary and relevant to the project.\n",
      "   - Discuss the research and iterative prototyping required to develop each component.\n",
      "\n",
      "5. Timescale and Work Breakdown:\n",
      "   - Define the estimated timescale for completing the project.\n",
      "   - Identify dependencies, milestones, and any potential contingencies.\n",
      "   - Provide a breakdown of work and activities, allocating resources as needed.\n",
      "\n",
      "6. Formal Specification and User-Acceptance Criteria:\n",
      "   - Detail the formal specification of the desired system, including input/output behavior.\n",
      "   - Define acceptance criteria and metrics for testing and evaluation.\n",
      "   - Ensure that the specification aligns with the scope and objectives of the project.\n",
      "\n",
      "7. Project Scope:\n",
      "   - Clearly define what will be delivered as part of the project.\n",
      "   - Identify any limitations or functionalities that will not be included.\n",
      "   - Set realistic and achievable boundaries for the project.\n",
      "\n",
      "8. Requirements Elicitation:\n",
      "   - Describe the processes used to gather requirements from stakeholders.\n",
      "   - Provide evidence of requirements elicitation, such as literature sources or empirical proof.\n",
      "   - Discuss any usability studies or user research conducted.\n",
      "\n",
      "9. Research Summary:\n",
      "   - Summarize the challenges and complexities of the chosen domain.\n",
      "   - Review existing tools or solutions in the same domain.\n",
      "   - Highlight the unique capabilities or advantages of the proposed software.\n",
      "\n",
      "10. Approach and Tasks:\n",
      "    - Explain the motivation and reasoning behind your chosen approach.\n",
      "    - Outline the specific tasks required to complete the project.\n",
      "    - Provide a logical and organized plan for executing each task.\n",
      "\n",
      "11. Prototyping and Validation:\n",
      "    - Describe the iterative design and development activities undertaken.\n",
      "    - Showcase early prototypes and their strengths and weaknesses.\n",
      "    - Discuss how assumption testing and design validation were conducted.\n",
      "\n",
      "12. Critical Evaluation and Feasibility:\n",
      "    - Critically evaluate the concept and current state of the project.\n",
      "    - Assess the feasibility of completing the project within the given constraints.\n",
      "    - Provide a systematic and coherent analysis of the project's potential outcomes.\n",
      "\n",
      "Remember to structure your proposal in a logical and coherent manner, with appropriate sections, headings, and subheadings. Use a clear and concise writing style, and support your arguments and claims with evidence whenever possible. Good luck with your project proposal!\n"
     ]
    }
   ],
   "source": [
    "def get_completion_from_messages(messages, model=\"gpt-3.5-turbo\", temperature=0):\n",
    "    response = openai.ChatCompletion.create(\n",
    "        model=model,\n",
    "        messages=messages,\n",
    "        temperature=temperature, # this is the degree of randomness of the model's output\n",
    "    )\n",
    "#     print(str(response.choices[0].message))\n",
    "    return response.choices[0].message[\"content\"]\n",
    "\n",
    "messages =  [  \n",
    "{'role':'system', 'content':'You are a university computer science professor that aims to help students pass their assessments.'},    \n",
    "{'role':'user', 'content':\"\"\"\n",
    "Can you guide me through the process of writing a project proposal? A summary of the project requirement is as follows:\n",
    "\n",
    "The project proposal requirements for this coursework assignment involve designing and developing a software project. The proposal should be no longer than 8,000 words and should be submitted as a single PDF document. The proposal should explore design decisions, consider the context of use, and identify the software development process. It should include a justification for the deliverable components of the software and the necessary research and iterative prototyping to complete them. The proposal should also define the timescale of work, including dependencies, milestones, and contingencies, with a clear breakdown of work and activities. A formal specification of the desired system should be included, along with user-acceptance criteria for testing. The scope of the project should be clearly defined, indicating what will and will not be delivered. Evidence of requirements elicitation involving project stakeholders should be provided, either through literature sources or empirical proof such as usability studies. A research summary should highlight the challenges of the chosen domain and the capabilities of similar tools. The approach to the project should be described, including motivations and reasoning, and the tasks required to complete the project should be identified. Early prototypes should demonstrate iterative design and development activities, highlighting strengths and weaknesses. Assumption testing and validation of designs should also be included. Finally, a critical evaluation of the concept, current state of the project, and proposed software project should be provided, with a clear and systematic rhetoric and overall evaluation of feasibility.\n",
    "\"\"\" \n",
    " },   \n",
    "]\n",
    "\n",
    "response = get_completion_from_messages(messages, temperature=1)\n",
    "print(response)"
   ]
  },
  {
   "cell_type": "code",
   "execution_count": 10,
   "metadata": {},
   "outputs": [
    {
     "name": "stdout",
     "output_type": "stream",
     "text": [
      "Certainly! Here's a template for a project proposal that you can use as a starting point:\n",
      "\n",
      "[Your Name]\n",
      "[Your Affiliation]\n",
      "[Date]\n",
      "\n",
      "[Title of the Proposal]\n",
      "\n",
      "1. Introduction\n",
      "   - Background information on the project and its relevance\n",
      "   - Objectives and goals of the project\n",
      "   - Problem statement and its significance in the chosen domain\n",
      "\n",
      "2. Context of Use\n",
      "   - Target users/stakeholders and their needs\n",
      "   - Factors influencing software usage (environmental, situational, etc.)\n",
      "\n",
      "3. Software Development Process\n",
      "   - Selected methodology/framework and justification\n",
      "   - Stages, activities, and deliverables of the software development process\n",
      "\n",
      "4. Deliverable Components\n",
      "   - Functionality and features of the software\n",
      "   - Justification for the inclusion of each component\n",
      "   - Research and iterative prototyping required for development\n",
      "\n",
      "5. Timescale and Work Breakdown\n",
      "   - Estimated project timeline\n",
      "   - Dependencies, milestones, and contingencies\n",
      "   - Breakdown of work and activities\n",
      "\n",
      "6. Formal Specification and User-Acceptance Criteria\n",
      "   - Specification of the desired system (input/output behavior)\n",
      "   - Acceptance criteria and testing metrics\n",
      "   - Alignment with project scope and objectives\n",
      "\n",
      "7. Project Scope\n",
      "   - Deliverables included in the project\n",
      "   - Limitations and functionalities not included\n",
      "\n",
      "8. Requirements Elicitation\n",
      "   - Processes used to gather requirements from stakeholders\n",
      "   - Evidence of requirements elicitation (literature, usability studies, etc.)\n",
      "\n",
      "9. Research Summary\n",
      "   - Challenges in the domain\n",
      "   - Existing tools or solutions in the same domain\n",
      "   - Advantages of the proposed software\n",
      "\n",
      "10. Approach and Tasks\n",
      "    - Motivation and reasoning for the chosen approach\n",
      "    - Specific tasks required to complete the project\n",
      "    - Detailed plan for executing each task\n",
      "\n",
      "11. Prototyping and Validation\n",
      "    - Description of iterative design and development activities\n",
      "    - Showcase of early prototypes and their strengths/weaknesses\n",
      "    - Assumption testing and design validation methods\n",
      "\n",
      "12. Critical Evaluation and Feasibility\n",
      "    - Critical evaluation of the project concept and current state\n",
      "    - Feasibility assessment within given constraints\n",
      "    - Systematic analysis of potential outcomes\n",
      "\n",
      "Please note that this is just a template, and you should tailor it to suit your specific project requirements and guidelines. Make sure to provide detailed and comprehensive information in each section to effectively convey your project idea.\n"
     ]
    }
   ],
   "source": [
    "messages.append({'role':'assistant', 'content':response})\n",
    "messages.append({'role':'user', 'content':'Can you generate a proposal template?'})\n",
    "\n",
    "response = get_completion_from_messages(messages, temperature=1)\n",
    "print(response)"
   ]
  },
  {
   "cell_type": "markdown",
   "metadata": {},
   "source": [
    "### Model Limitation: Hallucinations ###\n",
    "If the task is too complex and the instruction is not clear, the LLM may confidently respond with unreal information.  \n",
    "In this example, **LLama 2** was not released when GPT-3.5 or GPT-4 was released.   \n",
    "\n",
    "Let's see what LLM thinks LLama 2 is."
   ]
  },
  {
   "cell_type": "code",
   "execution_count": 11,
   "metadata": {},
   "outputs": [
    {
     "name": "stdout",
     "output_type": "stream",
     "text": [
      "Llama 2 is a fictional character created by the OpenAI team to showcase the capabilities of their language model, GPT-3. It is not a real llama but a representation of the AI's ability to generate creative and engaging content. Llama 2 is special because it demonstrates the potential of AI in various applications such as writing, storytelling, and problem-solving. It can generate text in a conversational manner, answer questions, and provide information on a wide range of topics. The uniqueness of Llama 2 lies in its ability to understand and respond to human prompts, making it an impressive example of AI technology.\n"
     ]
    }
   ],
   "source": [
    "prompt = f\"\"\"\n",
    "What is so special about Llama 2?\n",
    "\"\"\"\n",
    "response = get_completion(prompt)\n",
    "print(response)"
   ]
  },
  {
   "cell_type": "markdown",
   "metadata": {},
   "source": [
    "Here's what LLama 2 actually is: https://ai.meta.com/llama/\n",
    "\n",
    "How do we tackle LLM's Hallucinations? Stay tuned!"
   ]
  }
 ],
 "metadata": {
  "kernelspec": {
   "display_name": "rag",
   "language": "python",
   "name": "python3"
  },
  "language_info": {
   "codemirror_mode": {
    "name": "ipython",
    "version": 3
   },
   "file_extension": ".py",
   "mimetype": "text/x-python",
   "name": "python",
   "nbconvert_exporter": "python",
   "pygments_lexer": "ipython3",
   "version": "3.9.18"
  }
 },
 "nbformat": 4,
 "nbformat_minor": 2
}
